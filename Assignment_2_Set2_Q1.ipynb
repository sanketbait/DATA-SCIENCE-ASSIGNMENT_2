{
  "nbformat": 4,
  "nbformat_minor": 0,
  "metadata": {
    "colab": {
      "name": "Assignment-2-Set2-Q1.ipynb",
      "provenance": []
    },
    "kernelspec": {
      "name": "python3",
      "display_name": "Python 3"
    },
    "language_info": {
      "name": "python"
    }
  },
  "cells": [
    {
      "cell_type": "code",
      "execution_count": null,
      "metadata": {
        "id": "EJD9rYlJFUU0"
      },
      "outputs": [],
      "source": [
        "from scipy import stats\n",
        "from scipy.stats import norm"
      ]
    },
    {
      "cell_type": "code",
      "source": [
        "# Find Z-Scores at X=50; Z = (X - µ) / σ \n",
        "Z=(50-45)/8\n",
        "Z"
      ],
      "metadata": {
        "id": "eb4BUu97F2W7"
      },
      "execution_count": null,
      "outputs": []
    },
    {
      "cell_type": "code",
      "source": [
        "# Find probability P(X>50) = 1-stats.norm.cdf(abs(z_score))\n",
        "1-stats.norm.cdf(abs(0.625))"
      ],
      "metadata": {
        "id": "EJqicaNgF6IX"
      },
      "execution_count": null,
      "outputs": []
    },
    {
      "cell_type": "code",
      "source": [
        "# OR Find probability P(X<=50); p_value=stats.norm.cdf(abs(z_score))  \n",
        "p_value=stats.norm.cdf(abs(0.625)) \n",
        "p_value"
      ],
      "metadata": {
        "id": "g3jtBbFGF8Qw"
      },
      "execution_count": null,
      "outputs": []
    },
    {
      "cell_type": "code",
      "source": [
        "# P(X>50) = 1 - P(X<=50)\n",
        "1-0.734"
      ],
      "metadata": {
        "id": "ti4uEYCIF-jY"
      },
      "execution_count": null,
      "outputs": []
    }
  ]
}