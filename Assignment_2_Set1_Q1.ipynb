{
  "nbformat": 4,
  "nbformat_minor": 0,
  "metadata": {
    "colab": {
      "name": "Assignment-2-Set1-Q1.ipynb",
      "provenance": []
    },
    "kernelspec": {
      "name": "python3",
      "display_name": "Python 3"
    },
    "language_info": {
      "name": "python"
    }
  },
  "cells": [
    {
      "cell_type": "code",
      "execution_count": null,
      "metadata": {
        "id": "pkw4jj5s4YGG"
      },
      "outputs": [],
      "source": [
        "import numpy as np\n",
        "import pandas as pd\n",
        "import matplotlib.pyplot as plt\n",
        "import seaborn as sns\n",
        "%matplotlib inline"
      ]
    },
    {
      "cell_type": "code",
      "source": [
        "x=pd.Series([24.23,25.53,25.41,24.14,29.62,28.25,25.81,24.39,40.26,32.95,91.36,25.99,39.42,26.71,35.00])"
      ],
      "metadata": {
        "id": "a_vFu77l4vgU"
      },
      "execution_count": null,
      "outputs": []
    },
    {
      "cell_type": "code",
      "source": [
        "name=['Allied Signal','Bankers Trust','General Mills','ITT Industries','J.P.Morgan & Co.','Lehman Brothers',\n",
        "      'Marriott','MCI','Merrill Lynch','Microsoft','Morgan Stanley','Sun Microsystems','Travelers','US Airways',\n",
        "      'Warner-Lambert']"
      ],
      "metadata": {
        "id": "tMavy_G_4xc1"
      },
      "execution_count": null,
      "outputs": []
    },
    {
      "cell_type": "code",
      "source": [
        "# Pie Plot\n",
        "plt.figure(figsize=(6,8))\n",
        "plt.pie(x,labels=name,autopct='%1.0f%%')\n",
        "plt.show()"
      ],
      "metadata": {
        "id": "5OakVJik4z5a"
      },
      "execution_count": null,
      "outputs": []
    },
    {
      "cell_type": "code",
      "source": [
        "# Box Plot to find outliars\n",
        "sns.boxplot(x)"
      ],
      "metadata": {
        "id": "-uxQml2N43AH"
      },
      "execution_count": null,
      "outputs": []
    },
    {
      "cell_type": "code",
      "source": [
        "# Mean\n",
        "x.mean()"
      ],
      "metadata": {
        "id": "nz8jynNU46b6"
      },
      "execution_count": null,
      "outputs": []
    },
    {
      "cell_type": "code",
      "source": [
        "# Vairance\n",
        "x.var()"
      ],
      "metadata": {
        "id": "krMz9GXb48bK"
      },
      "execution_count": null,
      "outputs": []
    },
    {
      "cell_type": "code",
      "source": [
        "# Standard Deviation\n",
        "x.std()"
      ],
      "metadata": {
        "id": "9qBH_CE04_b0"
      },
      "execution_count": null,
      "outputs": []
    }
  ]
}